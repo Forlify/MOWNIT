{
 "cells": [
  {
   "cell_type": "markdown",
   "metadata": {},
   "source": [
    "# Metody Obliczeniowe w Nauce i Technice Laboratorium 5\n",
    "## Równania nieliniowe\n",
    "### Błażej Kustra"
   ]
  },
  {
   "cell_type": "markdown",
   "metadata": {},
   "source": [
    "### Funkcje do testów"
   ]
  },
  {
   "cell_type": "code",
   "execution_count": null,
   "metadata": {},
   "outputs": [],
   "source": []
  },
  {
   "cell_type": "markdown",
   "metadata": {},
   "source": [
    "### 1. Metoda bisekcji\n",
    "Napisz funkcję realizującą metodę bisekcji dla danej funkcji f w oparciu o arytmetykę o zmiennej precyzji (mpmath.mpf). Funkcja przyjmuje następujące argumenty:\n",
    "- Minimalną precyzję obliczeń (liczba cyfr znaczących) \n",
    "- Krańce przedziału\n",
    "- Błąd bezwzględny obliczeń1\n",
    "Funkcja ma zwracać wyznaczone miejsce zerowe, wyliczoną wartość w miejscu zerowym oraz liczbę iteracji potrzebną do uzyskania określonej dokładności. Przetestuj działanie metody dla funkcji podanych na początku instrukcji. Jaka liczba iteracji jest potrzebna do uzyskania bezwzględnej dokładności rzędu: $10^{−7}, 10^{−15}, 10^{−33}$? W jaki sposób możemy obliczyć k pierwszych dodatnich pierwiastków funkcji $f_1(x)$?\n",
    "\n",
    "Można pokazać, że uzyskanie bezwzględnej dokładności ε wymaga $n = \\lceil {\\frac{log \\frac{b-a}{ε}}{log 2} }\\rceil$ iteracji"
   ]
  },
  {
   "cell_type": "code",
   "execution_count": null,
   "metadata": {},
   "outputs": [],
   "source": []
  },
  {
   "cell_type": "markdown",
   "metadata": {},
   "source": [
    "### 2. Metoda Newtona\n",
    "Napisz funkcję realizującą metodę Newtona w oparciu o arytmetykę o zmiennej precyzji (mpmath.mpf). Funkcja ma wykorzystywać dwa kryteria stopu:\n",
    "- maksymalną liczbę iteracji\n",
    "- moduł różnicy kolejnych przybliżeń mniejszy od danej wartości ε\n",
    "\n",
    "Oprócz przybliżonej wartości pierwiastka funkcja ma zwrócić liczbę iteracji potrzebną do uzyskania określonej dokładności ε. Przetestuj działanie metody dla funkcji podanych na początku instrukcji (dodatkowo dostępne pochodne tych funkcji). Porównaj zbieżność metody ze zbieżnością uzyskaną dla metody bisekcji."
   ]
  },
  {
   "cell_type": "code",
   "execution_count": null,
   "metadata": {},
   "outputs": [],
   "source": []
  },
  {
   "cell_type": "markdown",
   "metadata": {},
   "source": [
    "### 3. Metoda siecznych\n",
    "Napisz funkcję realizującą metodę siecznych w oparciu o arytmetykę o zmiennej precyzji (mpmath.mpf). Funkcja powinna stosować te same kryteria stopu co funkcja realizująca metodę Newtona. Przetestuj działanie metody dla funkcji podanych na początku instrukcji. Porównaj zbieżność metody ze zbieżnością uzyskaną dla metody bisekcji oraz metody Newtona."
   ]
  },
  {
   "cell_type": "code",
   "execution_count": null,
   "metadata": {},
   "outputs": [],
   "source": []
  },
  {
   "cell_type": "code",
   "execution_count": null,
   "metadata": {},
   "outputs": [],
   "source": []
  }
 ],
 "metadata": {
  "kernelspec": {
   "display_name": "Python 3",
   "language": "python",
   "name": "python3"
  },
  "language_info": {
   "codemirror_mode": {
    "name": "ipython",
    "version": 3
   },
   "file_extension": ".py",
   "mimetype": "text/x-python",
   "name": "python",
   "nbconvert_exporter": "python",
   "pygments_lexer": "ipython3",
   "version": "3.7.3"
  }
 },
 "nbformat": 4,
 "nbformat_minor": 2
}
