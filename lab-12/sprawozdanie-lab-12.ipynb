{
 "cells": [
  {
   "cell_type": "markdown",
   "metadata": {},
   "source": [
    "# Metody Obliczeniowe w Nauce i Technice Laboratorium 12\n",
    "## Równania różniczkowe i zagadnienie początkowe\n",
    "### Błażej Kustra"
   ]
  },
  {
   "cell_type": "code",
   "execution_count": 2,
   "metadata": {},
   "outputs": [],
   "source": [
    "import numpy as np\n",
    "\n",
    "# numpy 1.18.5"
   ]
  },
  {
   "cell_type": "markdown",
   "metadata": {},
   "source": [
    "### 1. Metoda Rungego-Kutty\n",
    "\n",
    "Zaimplementuj metodę Rungego-Kutty czwartego rzędu, a następnie:\n",
    "\n",
    "1. Opisz zalety metody Rungego-Kutty w porównaniu do metody z szeregami Taylora."
   ]
  },
  {
   "cell_type": "code",
   "execution_count": 3,
   "metadata": {},
   "outputs": [],
   "source": [
    "def RK4(function, a, b, x, h):\n",
    "    t = a\n",
    "    n = int((b - a) / h) \n",
    "    \n",
    "    for j in range(1, n + 1):\n",
    "        K1 = h * function(t, x)\n",
    "        K2 = h * function(t + h/2, x + K1/2)\n",
    "        K3 = h * function(t + h/2, x + K2/2)\n",
    "        K4 = h * function(t + h, x + K3)\n",
    "        \n",
    "        x += 1/6 * (K1 + 2*K2 + 2*K3 + K4)\n",
    "        t += h\n",
    "        \n",
    "    return x"
   ]
  },
  {
   "cell_type": "code",
   "execution_count": 4,
   "metadata": {},
   "outputs": [
    {
     "name": "stdout",
     "output_type": "stream",
     "text": [
      "x(1.5625) = 3.192937673837072\n"
     ]
    }
   ],
   "source": [
    "function = lambda t, x: 2 + (x-t-1)**2\n",
    "print(\"x(1.5625) =\", RK4(function, 1, 1.5625, 2, 0.5625/72))"
   ]
  },
  {
   "cell_type": "markdown",
   "metadata": {},
   "source": [
    "Sprawdziłem czy zaimplementowana metoda działa na przykładzie (Kincaid i Cheney rozdział 10.2 - wzór 13)\n",
    "\n",
    "Wynik z ksiązki: $x(1.5625) = 3.192937699$ zgadza się z wyżej otrzymanym. Uznałem, że algorytm działa."
   ]
  },
  {
   "cell_type": "markdown",
   "metadata": {},
   "source": [
    "2. Rozwiąż zagadnienie początkowe dane równaniem $x′ = x/t + t sec(x/t)$ z warunkiem początkowym $x(0) = 0$. Przedłuż rozwiązanie do $t = 1$ z krokiem $h = 2^{-7}$ Porównaj wynik z dokładnym rozwiązaniem: $x(t) = t ∗ arcsin(t)$."
   ]
  },
  {
   "cell_type": "code",
   "execution_count": 5,
   "metadata": {},
   "outputs": [
    {
     "name": "stdout",
     "output_type": "stream",
     "text": [
      "dla h=2^-7: 1.519125120477066\n",
      "wyliczone h=2^-20: 1.5702253886729263\n",
      "dokladne rozwiazanie: 1.5707963267948966\n"
     ]
    }
   ],
   "source": [
    "function = lambda t, x: x/t + t / np.cos(x / t)\n",
    "\n",
    "print(\"dla h=2^-7:\", RK4(function, a=1e-19, b=1, x=0, h=2**(-7)))\n",
    "print(\"wyliczone h=2^-20:\", RK4(function, a=1e-19, b=1, x=0, h=2**(-20)))\n",
    "print(\"dokladne rozwiazanie:\", np.arcsin(1))"
   ]
  },
  {
   "cell_type": "markdown",
   "metadata": {},
   "source": [
    "Wynik nie jest dokładny, jednak dla mniejszych kroków $h$ staje się coraz bliższy prawdziwemu."
   ]
  },
  {
   "cell_type": "markdown",
   "metadata": {},
   "source": [
    "3. Używając tej samej metody rozwiąż zagadnienie początkowe dane równaniem $x′ = 100(sin(t) − x)$ z warunkiem początkowym $x(0) = 0$ na przedziale $[0, 3]$ używając kroków o rozmiarach $h = 0.015, 0.02, 0.025, 0.03$. Opisz z czego wynikają różnice w rozwiązaniach."
   ]
  },
  {
   "cell_type": "code",
   "execution_count": 6,
   "metadata": {},
   "outputs": [
    {
     "name": "stdout",
     "output_type": "stream",
     "text": [
      "dla h=0.015: 0.15100302946455946\n",
      "dla h=0.020: 0.1509961328011409\n",
      "dla h=0.025: 0.150943166101132\n",
      "dla h=0.03: 672890582787.5056\n",
      "\n",
      "dla h=0.0277: 0.1557074882018206\n",
      "dla h=0.0278: 0.17187408642674104\n",
      "dla h=0.0279: 100531.86586480576\n",
      "dla h=0.028: 0.2174692460774255\n",
      "dla h=0.0282: 2.337180679810808\n",
      "dla h=0.0284: 52.42864285153036\n"
     ]
    }
   ],
   "source": [
    "function = lambda t, x: 100 * (np.sin(t) - x)\n",
    "\n",
    "print(\"dla h=0.015:\", RK4(function, a=0, b=3, x=0, h=0.015))\n",
    "print(\"dla h=0.020:\", RK4(function, a=0, b=3, x=0, h=0.02))\n",
    "print(\"dla h=0.025:\", RK4(function, a=0, b=3, x=0, h=0.025))\n",
    "print(\"dla h=0.03:\", RK4(function, a=0, b=3, x=0, h=0.03))\n",
    "\n",
    "print(\"\\ndla h=0.0277:\", RK4(function, a=0, b=3, x=0, h=0.0277))\n",
    "print(\"dla h=0.0278:\", RK4(function, a=0, b=3, x=0, h=0.0278))\n",
    "print(\"dla h=0.0279:\", RK4(function, a=0, b=3, x=0, h=0.0289))\n",
    "print(\"dla h=0.028:\", RK4(function, a=0, b=3, x=0, h=0.028))\n",
    "print(\"dla h=0.0282:\", RK4(function, a=0, b=3, x=0, h=0.0282))\n",
    "print(\"dla h=0.0284:\", RK4(function, a=0, b=3, x=0, h=0.0284))\n"
   ]
  },
  {
   "cell_type": "markdown",
   "metadata": {},
   "source": [
    "Czym mniejsze h tym dokładniejszy wynik, oraz więcej iteracji. Ponieważ wartość jest obliczana krokowo to błąd propagowany jest stopniowo od pierwszych obliczeń. Różnice w rozwiązaniach biorą się ze zbyt dużego kroku $h$. Problem pojawia się przy $h=0.0278$. Głębsze wytłumaczenie można znaleźć w książce \"Numerical methods\" by Germund Dahlquist.\n",
    "\n",
    "<center><img src=\"explanation.png\"></center>\n",
    "\n",
    "### Wnioski:\n",
    " - Metoda wykorzystywana jest w praktyce głównie w symulacjach fizycznych.\n",
    " - Głównie używa się wersji 4 rzędu, niższe rzędy często nie nadają się do rozwiązywania równań różniczkowych. Zwyczajnie są nie efektywne. Błąd ich stosowania jest na ogół duży.\n",
    " - Minusem metody jest fakt, że przy każdym kroku trzeba liczyć funkcje 4-krotnie."
   ]
  },
  {
   "cell_type": "markdown",
   "metadata": {},
   "source": [
    "### 2. Adaptacyjna metoda Rungego-Kutty-Fehlberga\n",
    "\n",
    "Zaimplementuj adaptacyjną metodę Rungego-Kutty-Fehlberga (rozdział 10.3, Kincaid i Cheney) i użyj jej do rozwiązania zagadnienia początkowego: $x′ = 3x/t + 9t/2 − 13$ z warunkiem brzegowym $x(3) = 6$ w punkcie $x(1/2)$ z dokładnością do 9 miejsc po przecinku. Porównaj wynik z rozwiązaniem analitycznym $x = t^3 − 9t^2/2 + 13t/2$. "
   ]
  },
  {
   "cell_type": "code",
   "execution_count": 12,
   "metadata": {},
   "outputs": [],
   "source": [
    "c20 = 0.25\n",
    "c21 = 0.25\n",
    "c30 = 0.375\n",
    "c31 = 0.09375\n",
    "c32 = 0.28125\n",
    "c40 = 12 / 13\n",
    "c41 = 1932 / 2197\n",
    "c42 = -7200 / 2197\n",
    "c43 = 7296 / 2197\n",
    "c51 = 439 / 216\n",
    "c52 = -8\n",
    "c53 = 3680 / 513\n",
    "c54 = -845 / 4104\n",
    "c60 = 0.5\n",
    "c61 = -8 / 27\n",
    "c62 = 2\n",
    "c63 = -3544 / 2565\n",
    "c64 = 1859 / 4104\n",
    "c65 = -0.275\n",
    "\n",
    "a1 = 25 / 216\n",
    "a3 = 1408 / 2565\n",
    "a4 = 2197 / 4104\n",
    "a5 = -0.2\n",
    "\n",
    "b1 = 16 / 135\n",
    "b3 = 6656 / 12825\n",
    "b4 = 28561 / 56430\n",
    "b5 = -0.18\n",
    "b6 = 2 / 55\n",
    "\n",
    "def RK45(function, t, x, h):        \n",
    "    K1 = h * function(t, x)\n",
    "    K2 = h * function(t + c20 * h, x + c21 * K1)\n",
    "    K3 = h * function(t + c30 * h, x + c31 * K1 + c32 * K2)\n",
    "    K4 = h * function(t + c40 * h, x + c41 * K1 + c42 * K2 + c43 * K3)\n",
    "    K5 = h * function(t +       h, x + c51 * K1 + c52 * K2 + c53 * K3 + c54 * K4)\n",
    "    K6 = h * function(t + c60 * h, x + c61 * K1 + c62 * K2 + c63 * K3 + c64 * K4 + c65 * K5)\n",
    "\n",
    "    x4 = x + a1*K1 + a3*K3 + a4*K4 + a5*K5\n",
    "    x += b1*K1 + b3*K3 + b4*K4 + b5*K5 + b6*K6 \n",
    "\n",
    "    epsilon = abs(x - x4)\n",
    "    t += h\n",
    "        \n",
    "    return h, t, x, epsilon"
   ]
  },
  {
   "cell_type": "code",
   "execution_count": 13,
   "metadata": {},
   "outputs": [],
   "source": [
    "def RK45_adaptive(function, t, x, h, tb, itmax, e_max, e_min, h_min, h_max):\n",
    "    delta = 0.5 * 1e-5\n",
    "    iflag = 1\n",
    "    k = 0\n",
    "    \n",
    "    while k <= itmax:\n",
    "        k += 1\n",
    "        if abs(h) < h_min: h = np.sign(h) * h_min\n",
    "        if abs(h) > h_max: h = np.sign(h) * h_max\n",
    "        \n",
    "        d = abs(tb - t)\n",
    "        \n",
    "        if d <= abs(h):\n",
    "            iflag = 0\n",
    "            if d <= delta * max(abs(tb), abs(t)): break\n",
    "            h = np.sign(h) * d\n",
    "        \n",
    "        x_save = x\n",
    "        t_save = t\n",
    "        \n",
    "        h, t, x, epsilon = RK45(function, t, x, h)\n",
    "        \n",
    "        if iflag == 0: break\n",
    "        if epsilon < e_min: h *= 2\n",
    "        if epsilon > e_max:\n",
    "            h /= 2\n",
    "            x = x_save\n",
    "            t = t_save\n",
    "            k -= 1\n",
    "        \n",
    "    return t, x"
   ]
  },
  {
   "cell_type": "markdown",
   "metadata": {},
   "source": [
    "Zaimplementowany algorytm sprawdzę najpierw na przykładzie z książki (Kincaid i Cheney rozdział 10.3 - wzór 1) $$x' = 3 + 5sint+0.2x$$ $$x(0)=0$$ "
   ]
  },
  {
   "cell_type": "code",
   "execution_count": 14,
   "metadata": {},
   "outputs": [
    {
     "name": "stdout",
     "output_type": "stream",
     "text": [
      "x( 10.0 ) = 135.91726280247354\n"
     ]
    }
   ],
   "source": [
    "function = lambda t, x: 3 + 5*np.sin(t) + 0.2*x\n",
    "x, t = RK45_adaptive(function, t=0, x=0, h=0.01, tb=10, itmax=1000, e_max=1e-5, e_min=1e-8, h_min=1e-6, h_max=1)\n",
    "print(\"x(\", x, \") =\", t)"
   ]
  },
  {
   "cell_type": "markdown",
   "metadata": {},
   "source": [
    "Wynik zgadza się z tym przedstawionym w książce: $x(10) ≈ 135.917$\n",
    "\n",
    "Dlatego przyjmuje, że implementacja algorytmu działa."
   ]
  },
  {
   "cell_type": "code",
   "execution_count": 15,
   "metadata": {},
   "outputs": [
    {
     "name": "stdout",
     "output_type": "stream",
     "text": [
      "przyblizone x( 0.5 ) = 2.250000000394462\n"
     ]
    }
   ],
   "source": [
    "function = lambda t, x: 3*x/t + (9/2)*t - 13\n",
    "x, t = RK45_adaptive(function, t=3, x=6, h=-0.0001, tb=0.5, itmax=1000, e_max=1e-9, e_min=1e-11, h_min=1e-6, h_max=1)\n",
    "print(\"przyblizone x(\", x, \") =\", t)"
   ]
  },
  {
   "cell_type": "code",
   "execution_count": 16,
   "metadata": {},
   "outputs": [
    {
     "name": "stdout",
     "output_type": "stream",
     "text": [
      "rozwiazanie analityczne x( 0.5 ) = 2.25\n"
     ]
    }
   ],
   "source": [
    "function = lambda t: t**3 - 9/2 * (t**2) + (13/2) * t\n",
    "print(\"rozwiazanie analityczne x( 0.5 ) =\", function(0.5))"
   ]
  },
  {
   "cell_type": "markdown",
   "metadata": {},
   "source": [
    "W jaki sposób metoda adaptacyjna pozwala nam zwiększyć dokładność rozwiązania? Jakie są tego wady?\n",
    "\n",
    "Fehlberg wykorzystał możliwość wyboru parametrów metody Rungego-Kutty dzięki czemu jest możliwosć większej optymalizacji wykonywanego algorytmu. \n",
    "\n",
    "$$x1(t+h) = x(t) + \\sum_{i=1}^{6} a_iF_i$$\n",
    "\n",
    "$$x2(t+h) = x(t) + \\sum_{i=1}^{6} b_iF_i$$\n",
    "\n",
    "Pierwszy wzór jest rzędu piątego, drugi czwartego\n",
    "\n",
    "Ich różnica $e = x1(t+h) - x2(t+h) = \\sum_{i=1}^{6} (a_i-b_i)F_i$ jest przybliżonym błędem drugiego wzoru i możemy jej używać do sterowania wielkością h. Natomiast pierwszy wzór daje ostateczne przybliżenie $x(t+h)$ \n",
    "\n",
    "Korzystając z tych własności stosując metode adaptacyjną z kolejnymi parametrami minimalnymi i maksymalnymi oraz deltą otrzymujemy algorytm który steruje wielkością kroku i umożliwia otrzymanie tak dokładnego wyniku jak potrzebujemy.\n",
    "\n",
    "Wady to przede wszystkim to, że należy za każdą iteracją trzeba wyliczać 6 wartości funkcji. Musimy również sami ustalić wszystkie parametry ręcznie.\n",
    "\n",
    "### Wnioski:\n",
    " - Metody wysokiego rzędu moga być mniej atrakcyjne gdyż każdy krok wymaga obliczenia wiele wartości funkcji $f$. Jednak dają też dodatkowe opcje jak dostosowanie dokładności wyniku.\n",
    " - Metoda Rungego-Kutty-Fehlberga pozwala sterować wieloma parametrami, dzięki czemu można zoptymalizować obliczanie.\n",
    " - Najważniejsza własność algorytmu to fakt, że metoda sama optymalizuje wartość kroku dzięki czemu pozwala na szybsze otrzymanie wyniku.\n",
    " - Przy każdej iteracji algorytmu trzeba wyliczyć 6 razy wartość funkcji co główną wadą algorytmu zwłaszcza przy rozbudowanych funkcjach."
   ]
  },
  {
   "cell_type": "code",
   "execution_count": null,
   "metadata": {},
   "outputs": [],
   "source": []
  }
 ],
 "metadata": {
  "kernelspec": {
   "display_name": "Python 3",
   "language": "python",
   "name": "python3"
  },
  "language_info": {
   "codemirror_mode": {
    "name": "ipython",
    "version": 3
   },
   "file_extension": ".py",
   "mimetype": "text/x-python",
   "name": "python",
   "nbconvert_exporter": "python",
   "pygments_lexer": "ipython3",
   "version": "3.7.7"
  }
 },
 "nbformat": 4,
 "nbformat_minor": 4
}
