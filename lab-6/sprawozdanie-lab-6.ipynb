{
 "cells": [
  {
   "cell_type": "markdown",
   "metadata": {},
   "source": [
    "# Metody Obliczeniowe w Nauce i Technice Laboratorium 5\n",
    "## Równania nieliniowe\n",
    "### Błażej Kustra"
   ]
  },
  {
   "cell_type": "code",
   "execution_count": 125,
   "metadata": {},
   "outputs": [],
   "source": [
    "import matplotlib.pyplot as plt\n",
    "import numpy as np\n",
    "import random\n",
    "import time"
   ]
  },
  {
   "cell_type": "markdown",
   "metadata": {},
   "source": [
    "### 1. Metoda Gaussa-Jordana\n",
    "Napisz i sprawdź funkcję rozwiązującą układ równań liniowych n × n metodą Gaussa-Jordana. Dla rozmiarów macierzy współczynników większych niż 500 × 500 porównaj czasy działania zaimplementowanej funkcji z czasami uzyskanymi dla wybranych funkcji bibliotecznych."
   ]
  },
  {
   "cell_type": "code",
   "execution_count": 140,
   "metadata": {},
   "outputs": [],
   "source": [
    "def create_linear_equation(n):\n",
    "    M = np.random.randint(low=-100, high=100, size=(n, n)).astype(float)\n",
    "    W = np.random.randint(low=1, high=100, size=n).astype(float)\n",
    "    return M, W"
   ]
  },
  {
   "cell_type": "code",
   "execution_count": 158,
   "metadata": {},
   "outputs": [],
   "source": [
    "def gauss_jordan(M, W):\n",
    "    n = len(W)\n",
    "    \n",
    "    for i in range(n):   \n",
    "        for j in range(i+1,n):\n",
    "            if abs(M[j][i]) > abs(M[i][i]):\n",
    "                M[[i, j]] = M[[j, i]] \n",
    "                W[i], W[j] = W[j], W[i]\n",
    "\n",
    "    for i in range(n):\n",
    "        scale = M[i][i]\n",
    "        M[i] /= scale\n",
    "        W[i] /= scale\n",
    "        \n",
    "        for j in range(n):\n",
    "            if i == j: continue \n",
    "            scale = M[j][i] \n",
    "            M[j] -= M[i] * scale \n",
    "            W[j] -= W[i] * scale \n",
    "            \n",
    "    return W"
   ]
  },
  {
   "cell_type": "code",
   "execution_count": 161,
   "metadata": {},
   "outputs": [
    {
     "name": "stdout",
     "output_type": "stream",
     "text": [
      "[[ -6. -29.  82.]\n",
      " [ 86. -65.  27.]\n",
      " [-95.  19.  69.]]\n",
      "[34. 36. 53.]\n",
      "linalg.solve:  [-2.07692147 -3.7424481  -1.06088444]\n",
      "Gauss-Jordan:  [-2.07692147 -3.7424481  -1.06088444]\n"
     ]
    }
   ],
   "source": [
    "M, W = create_linear_equation(3)\n",
    "print(M)\n",
    "print(W)\n",
    "print(\"linalg.solve: \", np.linalg.solve(M, W))\n",
    "print(\"Gauss-Jordan: \", gauss_jordan(M, W))\n"
   ]
  },
  {
   "cell_type": "code",
   "execution_count": 128,
   "metadata": {},
   "outputs": [],
   "source": [
    "def measure_time(M, W):\n",
    "    start_np = time.time()\n",
    "    np.linalg.solve(M, W)\n",
    "    end_np = time.time()\n",
    "    \n",
    "    start_gauss = time.time()\n",
    "    gauss_jordan(M, W)\n",
    "    end_gauss = time.time()\n",
    "    \n",
    "    return end_np - start_np, end_gauss - start_gauss"
   ]
  },
  {
   "cell_type": "code",
   "execution_count": 133,
   "metadata": {
    "scrolled": false
   },
   "outputs": [
    {
     "name": "stdout",
     "output_type": "stream",
     "text": [
      "599\r"
     ]
    }
   ],
   "source": [
    "time_np = []\n",
    "time_gauss = []\n",
    "\n",
    "for n in range(600):\n",
    "    M, W = create_linear_equation(n)\n",
    "    time_1, time_2 = measure_time(M, W)\n",
    "    time_np.append(time_1)\n",
    "    time_gauss.append(time_2)\n",
    "    print(n, end=\"\\r\")\n",
    "\n",
    "plt.plot(time_np,'r+')\n",
    "plt.plot(time_gauss,'b+')\n",
    "plt.show()    "
   ]
  },
  {
   "cell_type": "markdown",
   "metadata": {},
   "source": [
    "Czas potrzebny do rozwiązania układu równań jest znacznie dłuższy niż funkcji $numpy.linalg.solve$, a różnica rośnie wraz ze wzrostem ilości elementów w macierzy. \n",
    "\n",
    "<img src=\"gauss-vs-linalg-solve.png\">\n",
    "<center> zaimplementowany program (niebieski) </center>\n",
    "<center> funkcja np.linalg.solve (czerwony) </center>"
   ]
  },
  {
   "cell_type": "markdown",
   "metadata": {},
   "source": [
    "### 2. Faktoryzacja LU\n",
    "Napisz i sprawdź funkcję dokonującą faktoryzacji $A = LU$ macierzy $A$. Zastosuj częściowe poszukiwanie elementu wiodącego oraz skalowanie."
   ]
  },
  {
   "cell_type": "code",
   "execution_count": 177,
   "metadata": {},
   "outputs": [],
   "source": [
    "def LU_decomposition(M,n):\n",
    "    L = [[0] * n for _ in range(n)] \n",
    "    U = [[0] * n for _ in range(n)]      \n",
    "    \n",
    "    for i in range(n): \n",
    "        for j in range(i, n):  #górny trójkąt\n",
    "            sum = 0\n",
    "            for k in range(i): \n",
    "                sum += L[i][k] * U[k][j]\n",
    "            U[i][j] = M[i][j] - sum \n",
    "\n",
    "        for j in range(i, n): #dolny trójkąt\n",
    "            L[i][i] = 1 \n",
    "            if (i == j): continue\n",
    "            sum = 0 \n",
    "            for k in range(i): \n",
    "                sum += L[j][k] * U[k][i]\n",
    "            L[j][i] = (M[j][i] - sum) / U[i][i]\n",
    "            \n",
    "    return L, U"
   ]
  },
  {
   "cell_type": "code",
   "execution_count": 194,
   "metadata": {},
   "outputs": [
    {
     "name": "stdout",
     "output_type": "stream",
     "text": [
      "Macierz Wejściowa:\n",
      "[ 9.  1. -4.]\n",
      "[8. 7. 0.]\n",
      "[ 3.  3. -5.]\n",
      "\n",
      "L:\n",
      "[1, 0, 0]\n",
      "[0.8888888888888888, 1, 0]\n",
      "[0.3333333333333333, 0.43636363636363634, 1]\n",
      "\n",
      "U\n",
      "[9.0, 1.0, -4.0]\n",
      "[0, 6.111111111111111, 3.5555555555555554]\n",
      "[0, 0, -5.218181818181818]\n",
      "\n",
      "L * U:\n",
      "[ 9.  1. -4.]\n",
      "[8. 7. 0.]\n",
      "[ 3.  3. -5.]\n"
     ]
    }
   ],
   "source": [
    "A = np.random.randint(low=-10,high=10,size=(3,3)).astype(float)\n",
    "\n",
    "L,U = LU_decomposition(A,n)\n",
    "print(\"Macierz Wejściowa:\")\n",
    "for row in A: print(row)\n",
    "    \n",
    "print(\"\\nL:\")\n",
    "for row in L: print(row)\n",
    "    \n",
    "print(\"\\nU\")\n",
    "for row in U: print(row)\n",
    "    \n",
    "print(\"\\nL * U:\")\n",
    "for row in np.dot(L,U): print(row)"
   ]
  },
  {
   "cell_type": "markdown",
   "metadata": {},
   "source": [
    "### 2. Analiza obwodu elektrycznego\n",
    "Napisz program, który:\n",
    " 1. Wczytuje z pliku listę krawędzi grafu opisującego obwód elektryczny. Wagi krawędzi określają opór fragmentu obwodu między dwoma węzłami. Wierzchołki grafu identyfikowane są przez liczby naturalne.\n",
    " 2. Wczytuje dodatkowo trójkę liczb $(s,t,E)$, przy czym para $(s,t)$ wskazuje między którymi węzłami sieci przyłożono siłę elektromotoryczną E. Opór wewnętrzny SEM można zaniedbać.\n",
    " 3. Wykorzystując prawa Kirchhoffa znajduje natężenia prądu w każdej części obwodu i przedstawia je na rysunku w postaci grafu ważonego z etykietami.\n",
    " 4. Wykorzystując metodę potencjałów węzłowych zaimplementuj alternatywne rozwiązanie problemu.\n",
    " 5. Przedstaw (wizualizacja + sprawdzenie poprawności wyników) działanie programu dla grafów spójnych mających od 15 do 100 wierzchołków:\n",
    "    - Spójny graf losowy\n",
    "    - Graf 3-regularny (kubiczny)\n",
    "    - Graf złożony z dwóch grafów losowych połączonych mostkiem \n",
    "    - Graf siatka 2D"
   ]
  },
  {
   "cell_type": "code",
   "execution_count": null,
   "metadata": {},
   "outputs": [],
   "source": [
    "def drawGraph(G,maxI,pos):\n",
    "    \n",
    "    colorMap = plt.cm.cividis\n",
    "    plotDPI = 600\n",
    "    \n",
    "    edgeArrowSize = 20\n",
    "    edgeTextSize = 10\n",
    "    \n",
    "    vertexSize = 150\n",
    "    vertexTextSize = 10\n",
    "    \n",
    "    \n",
    "    nx.draw_networkx_nodes(G, pos, node_color = 'orange', node_size = vertexSize)\n",
    "    nx.draw_networkx_labels(G, pos, font_size = vertexTextSize)\n",
    "\n",
    "    colors = [I for _,I in nx.get_edge_attributes(G,'I').items()]\n",
    "    nx.draw_networkx_edges(G, pos, edge_color=colors/maxI, edge_cmap=colorMap,\n",
    "                           edge_vmin=0, edge_vmax=1, arrowsize=edgeArrowSize, node_size=vertexSize)\n",
    "\n",
    "    \n",
    "    edgeLabels = {e:'%.2f' %I for e,I in nx.get_edge_attributes(G,'I').items()}   \n",
    "    nx.draw_networkx_edge_labels(G, pos, edge_labels=edgeLabels, font_size = edgeTextSize)\n",
    "\n",
    "    cm = plt.cm.ScalarMappable(cmap=colorMap , norm=plt.Normalize(0,maxI))\n",
    "    plt.colorbar(cm)\n",
    "    plt.subplots_adjust(left=0, right=1, top=1, bottom=0)\n",
    "    \n",
    "    plt.show()"
   ]
  }
 ],
 "metadata": {
  "kernelspec": {
   "display_name": "Python 3",
   "language": "python",
   "name": "python3"
  },
  "language_info": {
   "codemirror_mode": {
    "name": "ipython",
    "version": 3
   },
   "file_extension": ".py",
   "mimetype": "text/x-python",
   "name": "python",
   "nbconvert_exporter": "python",
   "pygments_lexer": "ipython3",
   "version": "3.7.3"
  }
 },
 "nbformat": 4,
 "nbformat_minor": 2
}
