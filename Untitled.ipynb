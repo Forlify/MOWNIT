{
 "cells": [
  {
   "cell_type": "code",
   "execution_count": 1,
   "metadata": {},
   "outputs": [],
   "source": [
    "import numpy as np\n",
    "import matplotlib.pyplot as plt\n",
    "import random\n",
    "import time"
   ]
  },
  {
   "cell_type": "markdown",
   "metadata": {},
   "source": [
    "\n",
    "\n",
    "\n",
    "\n",
    "\n",
    "\n",
    "Przez to ze uzywamy macierzy vandermonda to nasza funkcja interpolujaca jest stopnia n (n liczba punktow) przez co dla duzej ilosci punktow wystepuje efekt Rungego => wiecej wezlow != wieksza dokladnosc i to jest glowny problem jednka mozna go ominac stosujac wezly czybyszewa. Dodatkowo dla duzych wartosci macierz vandermonda moze byc zle uwarunkowana co prowadzi do pozniejszych problemow z bledem.\n",
    "\n",
    "\n",
    "\n",
    "metoda bisekcji potrzebuje poprawnych danych tzn f(a)*f(b) < 0, w tym wypadku f(-2) = 3 oraz f(2) = 3 zatem nie spelnia warunku i nie znajdzie miejsca zerowego. Mozna jednak podzielic ten przedzial na mniejsze przedzialy i wtedy np dla przedzialow [-2, 0] i [0, 2] mozna znalezc oba miejsca zerowe funkcji.\n",
    "\n",
    "\n",
    "A = LU => dzielimy na dwa rownania Lz=b i Ux=z i pierw rozwiazujemy Lz=b bo znamy L i b a potem podstawiamy z pod rownanie Ux=z. Ma to sens poniewaz macierze L i u to macierze trojkatne dolne i gorne dzieki czemu mozna zastosowa algorytm back substittution ktora jest szybka w porownaniu do metody gaussa.\n",
    "\n",
    "\n"
   ]
  }
 ],
 "metadata": {
  "kernelspec": {
   "display_name": "Python 3",
   "language": "python",
   "name": "python3"
  },
  "language_info": {
   "codemirror_mode": {
    "name": "ipython",
    "version": 3
   },
   "file_extension": ".py",
   "mimetype": "text/x-python",
   "name": "python",
   "nbconvert_exporter": "python",
   "pygments_lexer": "ipython3",
   "version": "3.7.6"
  }
 },
 "nbformat": 4,
 "nbformat_minor": 4
}
