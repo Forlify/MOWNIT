{
 "cells": [
  {
   "cell_type": "markdown",
   "metadata": {},
   "source": [
    "# Metody Obliczeniowe w Nauce i Technice Laboratorium 9\n",
    "## Faktoryzacja QR\n",
    "### Błażej Kustra"
   ]
  },
  {
   "cell_type": "code",
   "execution_count": 1,
   "metadata": {},
   "outputs": [],
   "source": [
    "import numpy as np\n",
    "import matplotlib.pyplot as plt\n",
    "from scipy.stats import ortho_group\n",
    "from copy import deepcopy\n",
    "import random\n",
    "\n",
    "# numpy 1.18.1\n",
    "# matplotlib 3.1.3\n",
    "# scipy 1.4.1"
   ]
  },
  {
   "cell_type": "markdown",
   "metadata": {},
   "source": [
    "### 1. Faktoryzacja QR metodą Grama-Schmidta\n",
    "\n",
    "1. Napisz funkcję dokonującą faktoryzacji $QR$ macierzy $A \\in R^{n×n},A=[a_1,a_2,...,a_n]$ ($a_i$ to kolejne kolumny macierzy A) klasyczną metodą ortogonalizacji Grama-Schmidta:\n",
    "   - Dla k = 1: $$u_1 \\leftarrow \\frac{a_1}{||a_1||}$$\n",
    "   - Dla k > 1: ($⟨a, b⟩$ oznacza iloczyn skalarny wektorów $a, b$)\n",
    "\n",
    "$$u_k \\leftarrow a_k - \\sum_{i=1}^{k-1} ⟨u_i,a_k⟩u_i$$\n",
    "$$u_k \\leftarrow \\frac{a_k}{||a_k||}$$\n",
    "   \n",
    "$$Q=[u_1,u_2,...,u_n]$$\n",
    "\n",
    "$$R = \\begin{bmatrix}\n",
    "⟨u_1,a_1⟩ & ⟨u_1,a_2⟩ & ⟨u_1,a_3⟩ & \\cdots \\\\\n",
    "0         & ⟨u_2,a_2⟩ & ⟨u_2,a_3⟩ & \\cdots \\\\\n",
    "0         & 0         & ⟨u_3,a_3⟩ & \\cdots \\\\\n",
    "\\vdots & \\vdots & \\vdots & \\ddots \\\\\n",
    "\\end{bmatrix}$$"
   ]
  },
  {
   "cell_type": "code",
   "execution_count": 2,
   "metadata": {},
   "outputs": [],
   "source": [
    "def normalize(vector):\n",
    "    return vector / np.linalg.norm(vector)\n",
    "\n",
    "def qr_method(A):\n",
    "    n = A.shape[0]\n",
    "    Q = deepcopy(A)\n",
    "    R = np.zeros((n, n))\n",
    "    \n",
    "    for k in range(0, n):\n",
    "        for i in range(0, k):\n",
    "            Q[:,k] -= np.dot(Q[:,i], A[:,k]) * Q[:,i]\n",
    "        Q[:,k] = normalize(Q[:,k])\n",
    "\n",
    "    for i in range(0, n):\n",
    "        for j in range(i, n):\n",
    "            R[i,j] = np.dot(Q[:,i], A[:,j])\n",
    "\n",
    "    return Q, R"
   ]
  },
  {
   "cell_type": "markdown",
   "metadata": {},
   "source": [
    "2. Przetestuj zaimplementowaną metodę porównując wyniki uzyskane z jej pomocą z wynikami zwracanymi przez funkcję biblioteczną. W testach wykorzystaj 4 macierzy losowych o różnym rozmiarze.\n",
    "\n",
    "Najpierw sprawdziłem czy funkcja działa a następnie sprawdziłem działanie na 4 losowych macierzach:"
   ]
  },
  {
   "cell_type": "code",
   "execution_count": 3,
   "metadata": {},
   "outputs": [
    {
     "name": "stdout",
     "output_type": "stream",
     "text": [
      "A:\n",
      " [[0.75021309 0.84604755]\n",
      " [0.3112636  0.69465636]]\n",
      "\n",
      "Zaimplementowana funkcja qr_method():\n",
      "Q:\n",
      " [[ 0.92365513 -0.38322474]\n",
      " [ 0.38322474  0.92365513]]\n",
      "R:\n",
      " [[0.81222208 1.04766566]\n",
      " [0.         0.31739655]]\n",
      "A = Q @ R:\n",
      " [[0.75021309 0.84604755]\n",
      " [0.3112636  0.69465636]]\n",
      "\n",
      "Biblioteczna funkcja np.linalg.qr():\n",
      "Q:\n",
      " [[-0.92365513 -0.38322474]\n",
      " [-0.38322474  0.92365513]]\n",
      "R:\n",
      " [[-0.81222208 -1.04766566]\n",
      " [ 0.          0.31739655]]\n",
      "A = Q @ R:\n",
      " [[0.75021309 0.84604755]\n",
      " [0.3112636  0.69465636]]\n"
     ]
    }
   ],
   "source": [
    "A = np.random.rand(2, 2)\n",
    "print(\"A:\\n\",A)\n",
    "\n",
    "Q, R = qr_method(A)\n",
    "print(\"\\nZaimplementowana funkcja qr_method():\")\n",
    "print(\"Q:\\n\",Q)\n",
    "print(\"R:\\n\",R)\n",
    "print(\"A = Q @ R:\\n\", Q @ R)\n",
    "\n",
    "print(\"\\nBiblioteczna funkcja np.linalg.qr():\")\n",
    "Q, R = np.linalg.qr(A)\n",
    "print(\"Q:\\n\",Q)\n",
    "print(\"R:\\n\",R)\n",
    "print(\"A = Q @ R:\\n\", Q @ R)"
   ]
  },
  {
   "cell_type": "code",
   "execution_count": 4,
   "metadata": {},
   "outputs": [
    {
     "name": "stdout",
     "output_type": "stream",
     "text": [
      "A:\n",
      " [[0.30398275 0.89254766 0.02548605]\n",
      " [0.43153174 0.07348153 0.56306145]\n",
      " [0.77216111 0.22310041 0.95264095]]\n",
      "\n",
      "Zaimplementowana funkcja qr_method():\n",
      "Q:\n",
      " [[ 0.32499761  0.94412218  0.05486214]\n",
      " [ 0.46136429 -0.20892189  0.86226135]\n",
      " [ 0.82554197 -0.25492145 -0.50348338]]\n",
      "R:\n",
      " [[ 0.93533841  0.50815637  1.05450444]\n",
      " [ 0.          0.77044906 -0.33642253]\n",
      " [ 0.          0.          0.00726546]]\n",
      "A = Q @ R:\n",
      " [[0.30398275 0.89254766 0.02548605]\n",
      " [0.43153174 0.07348153 0.56306145]\n",
      " [0.77216111 0.22310041 0.95264095]]\n",
      "\n",
      "Biblioteczna funkcja np.linalg.qr():\n",
      "Q:\n",
      " [[-0.32499761  0.94412218 -0.05486214]\n",
      " [-0.46136429 -0.20892189 -0.86226135]\n",
      " [-0.82554197 -0.25492145  0.50348338]]\n",
      "R:\n",
      " [[-0.93533841 -0.50815637 -1.05450444]\n",
      " [ 0.          0.77044906 -0.33642253]\n",
      " [ 0.          0.         -0.00726546]]\n",
      "A = Q @ R:\n",
      " [[0.30398275 0.89254766 0.02548605]\n",
      " [0.43153174 0.07348153 0.56306145]\n",
      " [0.77216111 0.22310041 0.95264095]]\n"
     ]
    }
   ],
   "source": [
    "A = np.random.rand(3, 3)\n",
    "print(\"A:\\n\",A)\n",
    "\n",
    "Q, R = qr_method(A)\n",
    "print(\"\\nZaimplementowana funkcja qr_method():\")\n",
    "print(\"Q:\\n\",Q)\n",
    "print(\"R:\\n\",R)\n",
    "print(\"A = Q @ R:\\n\", Q @ R)\n",
    "\n",
    "print(\"\\nBiblioteczna funkcja np.linalg.qr():\")\n",
    "Q, R = np.linalg.qr(A)\n",
    "print(\"Q:\\n\",Q)\n",
    "print(\"R:\\n\",R)\n",
    "print(\"A = Q @ R:\\n\", Q @ R)"
   ]
  },
  {
   "cell_type": "code",
   "execution_count": 5,
   "metadata": {},
   "outputs": [
    {
     "name": "stdout",
     "output_type": "stream",
     "text": [
      "A:\n",
      " [[0.79182427 0.65999404 0.28308249 0.90591577]\n",
      " [0.29750261 0.49534821 0.22627571 0.05928546]\n",
      " [0.57459522 0.32366128 0.72384713 0.61413862]\n",
      " [0.1715522  0.64908283 0.08322963 0.12660118]]\n",
      "\n",
      "Zaimplementowana funkcja qr_method():\n",
      "Q:\n",
      " [[ 0.76367355 -0.09037065 -0.6328623   0.09011748]\n",
      " [ 0.28692588  0.392356    0.16808635 -0.85759972]\n",
      " [ 0.55416737 -0.33315884  0.74168332  0.17835236]\n",
      " [ 0.16545322  0.85258144  0.14538961  0.47391137]]\n",
      "R:\n",
      " [[ 1.03686224  0.93290358  0.69601004  1.0701166 ]\n",
      " [ 0.          0.58027411 -0.10699775 -0.15527509]\n",
      " [ 0.          0.          0.40784769 -0.089452  ]\n",
      " [ 0.          0.          0.          0.20032646]]\n",
      "A = Q @ R:\n",
      " [[0.79182427 0.65999404 0.28308249 0.90591577]\n",
      " [0.29750261 0.49534821 0.22627571 0.05928546]\n",
      " [0.57459522 0.32366128 0.72384713 0.61413862]\n",
      " [0.1715522  0.64908283 0.08322963 0.12660118]]\n",
      "\n",
      "Biblioteczna funkcja np.linalg.qr():\n",
      "Q:\n",
      " [[-0.76367355  0.09037065  0.6328623   0.09011748]\n",
      " [-0.28692588 -0.392356   -0.16808635 -0.85759972]\n",
      " [-0.55416737  0.33315884 -0.74168332  0.17835236]\n",
      " [-0.16545322 -0.85258144 -0.14538961  0.47391137]]\n",
      "R:\n",
      " [[-1.03686224 -0.93290358 -0.69601004 -1.0701166 ]\n",
      " [ 0.         -0.58027411  0.10699775  0.15527509]\n",
      " [ 0.          0.         -0.40784769  0.089452  ]\n",
      " [ 0.          0.          0.          0.20032646]]\n",
      "A = Q @ R:\n",
      " [[0.79182427 0.65999404 0.28308249 0.90591577]\n",
      " [0.29750261 0.49534821 0.22627571 0.05928546]\n",
      " [0.57459522 0.32366128 0.72384713 0.61413862]\n",
      " [0.1715522  0.64908283 0.08322963 0.12660118]]\n"
     ]
    }
   ],
   "source": [
    "A = np.random.rand(4, 4)\n",
    "print(\"A:\\n\",A)\n",
    "\n",
    "Q, R = qr_method(A)\n",
    "print(\"\\nZaimplementowana funkcja qr_method():\")\n",
    "print(\"Q:\\n\",Q)\n",
    "print(\"R:\\n\",R)\n",
    "print(\"A = Q @ R:\\n\", Q @ R)\n",
    "\n",
    "print(\"\\nBiblioteczna funkcja np.linalg.qr():\")\n",
    "Q, R = np.linalg.qr(A)\n",
    "print(\"Q:\\n\",Q)\n",
    "print(\"R:\\n\",R)\n",
    "print(\"A = Q @ R:\\n\", Q @ R)"
   ]
  },
  {
   "cell_type": "code",
   "execution_count": 6,
   "metadata": {},
   "outputs": [
    {
     "name": "stdout",
     "output_type": "stream",
     "text": [
      "A:\n",
      " [[0.68131656 0.50900949 0.48535581 0.78739477 0.00543813]\n",
      " [0.41972913 0.20292786 0.05346485 0.19963541 0.35421633]\n",
      " [0.77574317 0.14562115 0.57688844 0.82918798 0.82078261]\n",
      " [0.41438949 0.41745937 0.58515264 0.26763815 0.60698461]\n",
      " [0.15823135 0.97320989 0.26341648 0.84952261 0.50107635]]\n",
      "\n",
      "Zaimplementowana funkcja qr_method():\n",
      "Q:\n",
      " [[ 0.56798116  0.10054953 -0.13368541  0.02243389 -0.80555082]\n",
      " [ 0.34990818 -0.05376112 -0.70683002 -0.50724027  0.34318019]\n",
      " [ 0.64670013 -0.33927224  0.16161883  0.52851558  0.401527  ]\n",
      " [ 0.34545678  0.17395415  0.6690216  -0.61970944  0.13700318]\n",
      " [ 0.13190994  0.91740604 -0.09385623  0.28077662  0.23091433]]\n",
      "R:\n",
      " [[ 1.19954077  0.72687736  0.90434677  1.25783332  0.93361607]\n",
      " [ 0.          0.95631324  0.19365534  0.61303303  0.26831294]\n",
      " [ 0.          0.          0.35731696 -0.01303638  0.24061287]\n",
      " [ 0.          0.          0.          0.42730818  0.01878204]\n",
      " [ 0.          0.          0.          0.          0.64561025]]\n",
      "A = Q @ R:\n",
      " [[0.68131656 0.50900949 0.48535581 0.78739477 0.00543813]\n",
      " [0.41972913 0.20292786 0.05346485 0.19963541 0.35421633]\n",
      " [0.77574317 0.14562115 0.57688844 0.82918798 0.82078261]\n",
      " [0.41438949 0.41745937 0.58515264 0.26763815 0.60698461]\n",
      " [0.15823135 0.97320989 0.26341648 0.84952261 0.50107635]]\n",
      "\n",
      "Biblioteczna funkcja np.linalg.qr():\n",
      "Q:\n",
      " [[-0.56798116  0.10054953  0.13368541  0.02243389 -0.80555082]\n",
      " [-0.34990818 -0.05376112  0.70683002 -0.50724027  0.34318019]\n",
      " [-0.64670013 -0.33927224 -0.16161883  0.52851558  0.401527  ]\n",
      " [-0.34545678  0.17395415 -0.6690216  -0.61970944  0.13700318]\n",
      " [-0.13190994  0.91740604  0.09385623  0.28077662  0.23091433]]\n",
      "R:\n",
      " [[-1.19954077 -0.72687736 -0.90434677 -1.25783332 -0.93361607]\n",
      " [ 0.          0.95631324  0.19365534  0.61303303  0.26831294]\n",
      " [ 0.          0.         -0.35731696  0.01303638 -0.24061287]\n",
      " [ 0.          0.          0.          0.42730818  0.01878204]\n",
      " [ 0.          0.          0.          0.          0.64561025]]\n",
      "A = Q @ R:\n",
      " [[0.68131656 0.50900949 0.48535581 0.78739477 0.00543813]\n",
      " [0.41972913 0.20292786 0.05346485 0.19963541 0.35421633]\n",
      " [0.77574317 0.14562115 0.57688844 0.82918798 0.82078261]\n",
      " [0.41438949 0.41745937 0.58515264 0.26763815 0.60698461]\n",
      " [0.15823135 0.97320989 0.26341648 0.84952261 0.50107635]]\n"
     ]
    }
   ],
   "source": [
    "A = np.random.rand(5, 5)\n",
    "print(\"A:\\n\",A)\n",
    "\n",
    "Q, R = qr_method(A)\n",
    "print(\"\\nZaimplementowana funkcja qr_method():\")\n",
    "print(\"Q:\\n\",Q)\n",
    "print(\"R:\\n\",R)\n",
    "print(\"A = Q @ R:\\n\", Q @ R)\n",
    "\n",
    "print(\"\\nBiblioteczna funkcja np.linalg.qr():\")\n",
    "Q, R = np.linalg.qr(A)\n",
    "print(\"Q:\\n\",Q)\n",
    "print(\"R:\\n\",R)\n",
    "print(\"A = Q @ R:\\n\", Q @ R)"
   ]
  },
  {
   "cell_type": "markdown",
   "metadata": {},
   "source": [
    "Zaimplementowana funkcja działa, jedyna różnica jaką zauważyłem względem funkcji numpy jest taka, że niektóre wartości różnią się znakiem. Po przemnożeniu macierzy QR dla obu funkcji dostajemy pierwotną macierz A.\n",
    "\n",
    "3. Wygeneruj 100 przykładowych macierzy $8×8$ o różnym wskaźniku uwarunkowania $cond(A_i)$ (stosunek największej do najmniejszej wartości osobliwej). Wykorzystaj w tym celu SVD oraz biblioteczną funkcję realizującą dekompozycję $QR$ (potrzebne będą dwie losowe macierze ortogonalne oraz diagonalna macierz odpowiednio szybko malejących wartości osobliwych).\n",
    "\n",
    "Aby wygenerować macierze z różnym wskaźnikiem $cond(A_i)$ zainspirowałem się rozwiązaniem zaproponowanym przez Fernando Domene: https://math.stackexchange.com/questions/198515/can-we-generate-random-singular-matrices-with-desired-condition-number-using-mat"
   ]
  },
  {
   "cell_type": "code",
   "execution_count": 13,
   "metadata": {},
   "outputs": [],
   "source": [
    "A = np.random.rand(8, 8)\n",
    "U, _, V = np.linalg.svd(A)\n",
    "initial_cond = 2\n",
    "\n",
    "As = []\n",
    "\n",
    "for i in range(100):\n",
    "    D = np.linspace(initial_cond,1,8)\n",
    "    initial_cond *= 2 + random.random()  \n",
    "    As.append(U @ np.diag(D) @ V)"
   ]
  },
  {
   "cell_type": "markdown",
   "metadata": {},
   "source": [
    "4. Dla każdej z uzyskanych w ten sposób macierzy $A_i$ wyznacz faktoryzację $QR$ korzystając z zaimplementowanej funkcji ($A_i = Q_iR_i$). Przedstaw zależność $||I−Q^T_i Q_i||$ od $cond(A_i)$."
   ]
  },
  {
   "cell_type": "code",
   "execution_count": 14,
   "metadata": {},
   "outputs": [
    {
     "data": {
      "image/png": "[encoded data removed]",
      "text/plain": [
       "<Figure size 432x288 with 1 Axes>"
      ]
     },
     "metadata": {
      "needs_background": "light"
     },
     "output_type": "display_data"
    }
   ],
   "source": [
    "conds = []\n",
    "norms = []\n",
    "Qs = []\n",
    "Rs = []\n",
    "for A in As:\n",
    "    Q, R = qr_method(A)\n",
    "    Qs.append(Q)\n",
    "    Rs.append(R)\n",
    "    \n",
    "    norm = np.linalg.norm(np.identity(8) - Q.T @ Q)\n",
    "    cond = np.linalg.cond(A)\n",
    "    conds.append(cond)\n",
    "    norms.append(norm)\n",
    "\n",
    "plt.scatter(conds, norms, marker='.')\n",
    "plt.plot()\n",
    "plt.show()"
   ]
  },
  {
   "cell_type": "markdown",
   "metadata": {},
   "source": [
    "5. Zinterpretuj wyniki (a). Jaka jest przyczyna uzyskanych rozbieżności? (b) Od czego zależy wielkość rozbieżności? (c)\n",
    "\n",
    " a) Wykres pokazuje że czym większe wartości $Cond(A_i)$ tym większe rozbieżności $||I−Q^T_i Q_i||$\n",
    "\n",
    " b) Wskaźnik pozwala na oszacowanie, z jaką (maksymalnie) dokładnością (do ilu miejsc po przecinku) możemy podać wynik, to oznacza że dla coraz wiekszych wskaźników uwarunkowania mamy coraz mniej dokładny wynik i z tego powodu $||I−Q^T_i Q_i|| \\neq 0$ dla dużych wartości $Cond(A_i)$.\n",
    "\n",
    " c) Czym wieksza wartość $Cond(A_i)$ tym większa rozbierzność mnożenia $Q^T_i*Q_i$. Prościej ujmując dla dużych $Cond(A_i)$ w macierzy przechowujemy duże (oraz małe) wartości i przez różnice między wartościami tracimy dokładność obliczeń.\n",
    " \n",
    "### Wnioski:\n",
    " - Zaimplementowana funkcja qr_method działa poprawnie, dla dobrze uwarunkowanych macierzy.\n",
    " - Dekompozycja QR jest przydatna do rozwiązywania równań, oraz na bazie rozkładu QR możliwa jest realizacja metody najmniejszych kwadratów (regresja liniowa). W zadaniu 2 jeszcze sie o tym więcej dowiemy.\n",
    " - Wskaźnik uwarunkowania określa, w jakim stopniu błąd reprezentacji numerycznej danych wejściowych danego problemu wpływa na błąd wyniku.\n",
    " - Przy źle uwarunkowanych macierzach wyniki nie nadają się do numerycznego rozwiązywania, ponieważ już sam błąd wynikający z numerycznej reprezentacji liczb wprowadza nieproporcjonalnie duży błąd w odpowiedzi. Można tego uniknąć stosując odpowiednie algorytmy.\n",
    " "
   ]
  },
  {
   "cell_type": "markdown",
   "metadata": {},
   "source": [
    "### 2. Rozwiązywanie układów równań metodą QR\n",
    "\n",
    "Bezpośrednie rozwiązywanie układu równań przy pomocy równań normalnych jest obarczone dużym błędem jeśli macierz $A$ jest źle uwarunkowana (jej współczynnik uwarunkowania jest wysoki). Lepszym sposobem jest wykorzystanie dekompozycji $QR$ w tym celu.\n",
    "\n",
    "Napisz funkcję rozwiązującą nadokreślony układ równań liniowych metodą $QR$ korzystając z własności macierzy ortogonalnych: $A^T = A^{−1}$, a także z mechanizmu back substitution. Następnie wykorzystaj ją do rozwiązania problemu aproksymacji średnio-kwadratowej dla zbioru punktów podanego tabeli poniżej. \n",
    "Przyjmij model postaci: $$f(x)=\\alpha_0 + \\alpha_1x + \\alpha_2x^2$$\n",
    "\n",
    "Przedstaw wizualizację uzyskanego wyniku (punkty oraz funkcja aproksymująca $f$).\n",
    "\n",
    "<table class=\"tg\">\n",
    "<thead>\n",
    "  <tr>\n",
    "    <th class=\"tg-0pky\">x</th>\n",
    "    <th class=\"tg-0pky\">-5</th>\n",
    "    <th class=\"tg-0pky\">-4</th>\n",
    "    <th class=\"tg-0pky\">-3</th>\n",
    "    <th class=\"tg-0pky\">-2</th>\n",
    "    <th class=\"tg-0pky\">-1</th>\n",
    "    <th class=\"tg-0pky\">0</th>\n",
    "    <th class=\"tg-0pky\">1</th>\n",
    "    <th class=\"tg-0pky\">2</th>\n",
    "    <th class=\"tg-0pky\">3</th>\n",
    "    <th class=\"tg-0pky\">4</th>\n",
    "    <th class=\"tg-0pky\">5</th>\n",
    "  </tr>\n",
    "</thead>\n",
    "<tbody>\n",
    "  <tr>\n",
    "    <td class=\"tg-0pky\">y</td>\n",
    "    <td class=\"tg-0pky\">2</td>\n",
    "    <td class=\"tg-0pky\">7</td>\n",
    "    <td class=\"tg-0pky\">9</td>\n",
    "    <td class=\"tg-0pky\">12</td>\n",
    "    <td class=\"tg-0pky\">13</td>\n",
    "    <td class=\"tg-0pky\">14</td>\n",
    "    <td class=\"tg-0pky\">14</td>\n",
    "    <td class=\"tg-0pky\">13</td>\n",
    "    <td class=\"tg-0pky\">10</td>\n",
    "    <td class=\"tg-0pky\">8</td>\n",
    "    <td class=\"tg-0pky\">4</td>\n",
    "  </tr>\n",
    "</tbody>\n",
    "</table>"
   ]
  },
  {
   "cell_type": "code",
   "execution_count": 34,
   "metadata": {},
   "outputs": [],
   "source": [
    "xs = [-5, -4, -3, -2, -1, 0, 1, 2, 3, 4, 5]\n",
    "ys = [2, 7, 9, 12, 13, 14, 14, 13, 10, 8, 4]\n",
    "\n",
    "A = np.array([[1, x, x ** 2] for x in xs])\n",
    "B = np.array(ys)\n",
    "\n",
    "def function(x, a_0, a_1, a_2):\n",
    "    return a_0 + a_1 * x + a_2 * x ** 2\n",
    "\n",
    "def back_substitution(A, B):\n",
    "    n = A.shape[0]\n",
    "    x = np.zeros(3)\n",
    "    \n",
    "    for i in range(n - 1, -1, -1): \n",
    "        for j in range(i + 1, n): \n",
    "            B[i] -= A[i,j] * x[j]\n",
    "        x[i] = B[i] / A[i,i]\n",
    "\n",
    "    return x\n",
    "\n",
    "def least_squares(A, B):\n",
    "    Q, R = np.linalg.qr(A)\n",
    "    return back_substitution(R, Q.T @ B)"
   ]
  },
  {
   "cell_type": "markdown",
   "metadata": {},
   "source": [
    "Funkcja least_squares(A, B) korzysta z własności macierzy ortogonalnych: \n",
    "$$Ax = B$$\n",
    "$$QRx = B$$\n",
    "$$Q^{-1}QRx = Q^{-1}B$$\n",
    "$$Rx = Q^TB$$\n",
    "Oraz z algorytmu back_substitution, jest on bardzo prosty. Dla górnej macierzy trójkątnej wystarczy od tyłu wyliczać wartości x i następnie odejmować na kolejnych rzędach już obliczone wartości x."
   ]
  },
  {
   "cell_type": "code",
   "execution_count": 35,
   "metadata": {},
   "outputs": [
    {
     "data": {
      "image/png": "[encoded data removed]",
      "text/plain": [
       "<Figure size 432x288 with 1 Axes>"
      ]
     },
     "metadata": {
      "needs_background": "light"
     },
     "output_type": "display_data"
    },
    {
     "name": "stdout",
     "output_type": "stream",
     "text": [
      "f(x) = 13.972027972027972 + 0.181818181818182x + -0.43356643356643365x²\n"
     ]
    }
   ],
   "source": [
    "a_0, a_1, a_2 = least_squares(A, B)\n",
    "\n",
    "linspace = np.linspace(xs[0], xs[-1], 1000)\n",
    "plt.scatter(xs, ys, marker='.', color='red')\n",
    "plt.plot(linspace, function(linspace, a_0, a_1, a_2))\n",
    "plt.show()\n",
    "\n",
    "print(f'f(x) = {a_0} + {a_1}x + {a_2}x²')"
   ]
  },
  {
   "cell_type": "markdown",
   "metadata": {},
   "source": [
    "### Wnioski:\n",
    " - Funkcja najmniejszych kwadratów działa prawidłowo i aproksymuje funkcje dla podanych punktów jak widać na wykresie powyżej.\n",
    " - Dekompozycja QR może pomóc uniknąć błędów przy macierach źle uwarunkowanych, dzieje się tak dlatego, że macierz Q w poniższym przykładzie ma wartości poniżej 1 a macierz R wartości $10^{39}$ \n",
    " \n",
    "$$\n",
    "Q = \\begin{bmatrix}\n",
    "-0.04410122 & 0.56451194 &-0.29226639 & 0.30376541 &-0.1885703 &  0.0803302 &0.55114706 &-0.41637344 \\\\\n",
    "0.53610821 &-0.12566663 & 0.58691661 & 0.09378356 &-0.2328369  & 0.32810951 & -0.00168042 & 0.1349004 \\\\\n",
    "0.11019533 & 0.61334801 &-0.10876591 &-0.09159625 &-0.23731679 & 0.3238321 &-0.63372065 & 0.58782133 \\\\\n",
    "0.1378424  & 0.03766194 & 0.14893488 & 0.07913792 &-0.04655128 & 0.43280916 &0.46010247 &-0.41637344 \\\\\n",
    "0.55637637 &-0.03429011 &-0.1918793  & 0.48995946 &-0.21098984 &-0.54153746 &-0.10464666 & 0.3000338 \\\\\n",
    "-0.18982355 &-0.16057738 &-0.0731971  & 0.74450692 & 0.40648409 & 0.37922543 &-0.25726532 & 0.220433 \\\\\n",
    "-0.07711683 & 0.50421516 & 0.61395137 & 0.1049111 &  0.45283679 &-0.3723013 &0.01795381 & 0.38805392 \\\\\n",
    "0.57268218 & 0.08201302 &-0.34203195 &-0.28092947 & 0.66101041 & 0.13422818 &0.0740219 &  0.01836942\n",
    "\\end{bmatrix}\n",
    "$$\n",
    "$$\n",
    "R = \\begin{bmatrix}\n",
    "1.17e+39 & -1.46e+38 & 5.03e+38 & 5.18e+37 & -1.71e+38 & 5.52e+38 & 5.14e+38 & 2.21e+38 \\\\\n",
    "0.00e+00 & 1.14e+39 & 4.17e+38 & 1.01e+37 & 2.50e+38 & 3.00e+38 & 3.46e+38 & 4.33e+38 \\\\\n",
    "0.00e+00 & 0.00e+00 & 7.91e+38 & -7.51e+37 & 2.63e+38 &-1.17e+38 & 1.34e+38 &-4.46e+38 \\\\\n",
    "0.00e+00 & 0.00e+00 & 0.00e+00 & 9.44e+38 & 5.27e+38 & 7.20e+37 &-1.62e+38 & 8.11e+38 \\\\\n",
    "0.00e+00 & 0.00e+00 & 0.00e+00 & 0.00e+00 & 7.12e+38 &-9.62e+37 & 5.56e+38 & 3.14e+38 \\\\\n",
    "0.00e+00 & 0.00e+00 & 0.00e+00 & 0.00e+00 & 0.00e+00 & 5.93e+38 &-2.79e+38 & 1.04e+38 \\\\\n",
    "0.00e+00 & 0.00e+00 & 0.00e+00 & 0.00e+00 & 0.00e+00 & 0.00e+00 & 2.09e+38 &-2.90e+38 \\\\\n",
    "0.00e+00 & 0.00e+00 & 0.00e+00 & 0.00e+00 & 0.00e+00 & 0.00e+00 & 0.00e+00 & 4.42e+38\n",
    "\\end{bmatrix}$$"
   ]
  }
 ],
 "metadata": {
  "kernelspec": {
   "display_name": "Python 3",
   "language": "python",
   "name": "python3"
  },
  "language_info": {
   "codemirror_mode": {
    "name": "ipython",
    "version": 3
   },
   "file_extension": ".py",
   "mimetype": "text/x-python",
   "name": "python",
   "nbconvert_exporter": "python",
   "pygments_lexer": "ipython3",
   "version": "3.7.6"
  }
 },
 "nbformat": 4,
 "nbformat_minor": 4
}
