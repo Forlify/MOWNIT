{
 "cells": [
  {
   "cell_type": "markdown",
   "metadata": {},
   "source": [
    "# Metody Obliczeniowe w Nauce i Technice Laboratorium 7\n",
    "## Dekompozycja spektralna\n",
    "### Błażej Kustra"
   ]
  },
  {
   "cell_type": "code",
   "execution_count": 1,
   "metadata": {},
   "outputs": [],
   "source": [
    "import numpy as np\n",
    "import itertools\n",
    "import scipy.linalg\n",
    "import sys\n",
    "import random\n",
    "import time\n",
    "import matplotlib.pyplot as plt\n",
    "import scipy "
   ]
  },
  {
   "cell_type": "markdown",
   "metadata": {},
   "source": [
    "### 1. Metoda potęgowa\n",
    "Napisz funkcję obliczającą metodą potęgową dominującą wartość własną (największą co do modułu) i odpowiadający jej wektor własny dla danej macierzy rzeczywistej symetrycznej. Sprawdź poprawność działania programu porównując własną implementację z wynikami funkcji bibliotecznej. Przedstaw na wykresie zależność czasu obliczeń od rozmiaru macierzy (rozmiary macierzy 100x100, 500x500, ...).\n",
    "* Powtarzaj mnożenie wektora xi przez macierz A: $x_{i+1} = Ax_{i}$ dzieląc za każdym razem wektor wynikowy przez ||xi+1||\n",
    "* Element wektora xi o największej wartości bezwzględnej zbiega do dominującej wartości własne\n",
    "* Przeskalowany wektor xi zbiega do dominującego wektora własnego\n",
    "* Obliczenia powinny się zatrzymać po przekroczeniu maksymalnej liczby iteracji, albo w przypadku gdy ||xi −xi+1|| < e (kryterium małej poprawki\n",
    "* Pod koniec obliczeń znormalizuj otrzymany wektor własny."
   ]
  },
  {
   "cell_type": "code",
   "execution_count": 2,
   "metadata": {},
   "outputs": [],
   "source": [
    "def power(A, epsilon=1e-9, max_iteration=10000):\n",
    "    n = A.shape[0]\n",
    "    x = np.random.uniform(size=(n, 1))\n",
    "    iterations = 10000\n",
    "    \n",
    "    for i in range(max_iteration): # Obliczenia powinny zatrzymać sie po przekroczeniu maksymalnej liczby iteracji\n",
    "        x_next = A @ x # Powtarzaj mnożenie wektora xi przez macierz A\n",
    "        x_norm = x_next / np.linalg.norm(x_next, np.inf) # dzieląc za każdym razem wektor wynikowy przez norme\n",
    "        \n",
    "        if np.linalg.norm(x_norm - x) < epsilon: # Albo w przypadku gdy ||xi − xi+1|| < ε (kryterium małej poprawki)\n",
    "            x = x_norm\n",
    "            iterations = i\n",
    "            break\n",
    "            \n",
    "        x = x_norm # Przeskalowany wektor xi zbiega do dominującego wektora własnego\n",
    "        \n",
    "    return np.linalg.norm(x_next, np.inf), (x/np.linalg.norm(x)), iterations # Pod koniec obliczeń znormalizuj otrzymany wektor własny."
   ]
  },
  {
   "cell_type": "markdown",
   "metadata": {},
   "source": [
    "Sprawdzenie poprawności zaimplementowanej funkcji:"
   ]
  },
  {
   "cell_type": "code",
   "execution_count": 3,
   "metadata": {},
   "outputs": [
    {
     "name": "stdout",
     "output_type": "stream",
     "text": [
      "np.linalg.eig:\n",
      "[ 9.85172586  0.46317564 -1.3149015 ]\n",
      "[[-0.79595113 -0.78035802 -0.29114621]\n",
      " [-0.30186223  0.62256205 -0.59217034]\n",
      " [-0.52472945 -0.0588035   0.75137752]]\n",
      "\n",
      "zaimplementowana funkcja:\n",
      "9.851725857059211\n",
      "[[0.79595113]\n",
      " [0.30186223]\n",
      " [0.52472945]]\n",
      "ilosc iteracji: 11\n"
     ]
    }
   ],
   "source": [
    "A = np.array([\n",
    "    [4,5,6],\n",
    "    [1,2,3],\n",
    "    [3,4,3]\n",
    "])\n",
    "\n",
    "eig_value, eig_vectors = np.linalg.eig(A)\n",
    "print('np.linalg.eig:')\n",
    "print(eig_value)\n",
    "print(eig_vectors)\n",
    "\n",
    "eig_value, eig_vectors, iterations = power(A)\n",
    "print('\\nzaimplementowana funkcja:')\n",
    "print(eig_value)\n",
    "print(eig_vectors)\n",
    "print(\"ilosc iteracji:\", iterations)"
   ]
  },
  {
   "cell_type": "markdown",
   "metadata": {},
   "source": [
    "Przedstaw na wykresie zależność czasu obliczeń od rozmiaru macierzy:"
   ]
  },
  {
   "cell_type": "code",
   "execution_count": 4,
   "metadata": {},
   "outputs": [],
   "source": [
    "def measure_time(A):    \n",
    "    start = time.time()\n",
    "    eig_value_power, _, _ = power(A)\n",
    "    end = time.time()\n",
    "    \n",
    "    eig_value_np, _ = np.linalg.eig(A)\n",
    "    \n",
    "    return end - start, abs(max(eig_value_np) - eig_value_power) < 1e-6 "
   ]
  },
  {
   "cell_type": "code",
   "execution_count": 5,
   "metadata": {},
   "outputs": [
    {
     "name": "stdout",
     "output_type": "stream",
     "text": [
      "macierz 100 x 100 eig_value poprawnie obliczona: True\n",
      "macierz 200 x 200 eig_value poprawnie obliczona: True\n",
      "macierz 300 x 300 eig_value poprawnie obliczona: True\n",
      "macierz 400 x 400 eig_value poprawnie obliczona: True\n",
      "macierz 500 x 500 eig_value poprawnie obliczona: True\n",
      "macierz 600 x 600 eig_value poprawnie obliczona: True\n",
      "macierz 700 x 700 eig_value poprawnie obliczona: True\n",
      "macierz 800 x 800 eig_value poprawnie obliczona: True\n",
      "macierz 900 x 900 eig_value poprawnie obliczona: True\n",
      "macierz 1000 x 1000 eig_value poprawnie obliczona: True\n",
      "macierz 1100 x 1100 eig_value poprawnie obliczona: True\n",
      "macierz 1200 x 1200 eig_value poprawnie obliczona: True\n",
      "macierz 1300 x 1300 eig_value poprawnie obliczona: True\n",
      "macierz 1400 x 1400 eig_value poprawnie obliczona: True\n",
      "macierz 1500 x 1500 eig_value poprawnie obliczona: True\n",
      "macierz 1600 x 1600 eig_value poprawnie obliczona: True\n",
      "macierz 1700 x 1700 eig_value poprawnie obliczona: True\n",
      "macierz 1800 x 1800 eig_value poprawnie obliczona: True\n",
      "macierz 1900 x 1900 eig_value poprawnie obliczona: True\n",
      "macierz 2000 x 2000 eig_value poprawnie obliczona: True\n"
     ]
    },
    {
     "data": {
      "image/png": "[encoded data removed]",
      "text/plain": [
       "<Figure size 432x288 with 1 Axes>"
      ]
     },
     "metadata": {
      "needs_background": "light"
     },
     "output_type": "display_data"
    }
   ],
   "source": [
    "times = []\n",
    "sizes = [size for size in range(100,2001,100)]\n",
    "\n",
    "for n in sizes:\n",
    "    A = np.random.randint(low=0, high=10, size=(n, n))\n",
    "    A = (A + A.T)/2\n",
    "    time_power, ok = measure_time(A)\n",
    "    times.append(time_power)\n",
    "    \n",
    "    print(\"macierz\", n,\"x\", n, \"eig_value poprawnie obliczona:\", ok)\n",
    "\n",
    "limit = max(times)\n",
    "plt.axis([0, max(sizes) + 100, 0.0, limit + 0.002])\n",
    "plt.plot(sizes, times,'b+')\n",
    "plt.show() "
   ]
  },
  {
   "cell_type": "markdown",
   "metadata": {},
   "source": [
    "Czasy dla odpowiednich wielkości macierzy "
   ]
  },
  {
   "cell_type": "markdown",
   "metadata": {},
   "source": [
    "### 2. Odwrotna metoda potęgowa\n",
    "Opierając się na twierdzeniu o transformacji widma macierzy:\n",
    "\n",
    "<b>Twierdzenie 1</b> Macierz $(A−σI)^{−1}$ (jeśli istnieje), to ma wartości własne równe $\\frac{1}{({λ}_{k} −σ)}$ ($λ_k$ jest k-tą wartością macierzy <b>A</b>) i wektory własne identyczne z macierzą $A$.\n",
    "\n",
    "\n",
    "oraz wykorzystując metodę potęgową i faktoryzację $LU$ zaimplementuj odwrotną metodę potęgową pozwalającą na szybkie znalezienie wektorów własnych macierzy $A$, dla wartości σ bliskich odpowiedniej wartości własnej. Wykorzystaj fakt, że mnożenie wektora $x_i$ przez macierz $A^{−1} (x_{i+1} = A^{−1}x_i)$ odpowiada rozwiązaniu układu równań $Ax_{i+1} = x_i$.\n",
    "\n"
   ]
  },
  {
   "cell_type": "code",
   "execution_count": 6,
   "metadata": {},
   "outputs": [],
   "source": [
    "def inverse_power(A, sigma=0, epsilon = 1e-30, max_iteration=10000):\n",
    "    x = np.identity(A.shape[0])[0]\n",
    "    n = A.shape[0]\n",
    "    LU = scipy.linalg.lu_factor(A - sigma * np.identity(n))\n",
    "    \n",
    "    for i in range(max_iteration):\n",
    "        x_next = scipy.linalg.lu_solve(LU, x) \n",
    "        x_next /= np.linalg.norm(x_next)\n",
    "        \n",
    "        if(np.linalg.norm(x_next - x) < epsilon):\n",
    "            return x_next\n",
    "        x = x_next\n",
    "        \n",
    "    return x_next"
   ]
  },
  {
   "cell_type": "code",
   "execution_count": 8,
   "metadata": {},
   "outputs": [
    {
     "name": "stdout",
     "output_type": "stream",
     "text": [
      "np.linalg.eig:\n",
      "[ 9.85172586  0.46317564 -1.3149015 ]\n",
      "[[-0.79595113 -0.78035802 -0.29114621]\n",
      " [-0.30186223  0.62256205 -0.59217034]\n",
      " [-0.52472945 -0.0588035   0.75137752]]\n",
      "\n",
      "Dla sigmy: 9.9\n",
      "[0.79595113 0.30186223 0.52472945]\n",
      "\n",
      "Dla sigmy: 0.5\n",
      "[ 0.78035802 -0.62256205  0.0588035 ]\n",
      "\n",
      "Dla sigmy: -1.3\n",
      "[ 0.29114621  0.59217034 -0.75137752]\n"
     ]
    }
   ],
   "source": [
    "A = np.array([\n",
    "    [4,5,6],\n",
    "    [1,2,3],\n",
    "    [3,4,3]\n",
    "])\n",
    "\n",
    "eig_value, eig_vectors = np.linalg.eig(A)\n",
    "print('np.linalg.eig:')\n",
    "print(eig_value)\n",
    "print(eig_vectors)\n",
    "\n",
    "print(\"\\nDla sigmy:\", round(eig_value[0],1))\n",
    "print(inverse_power(A, round(eig_value[0],1)))\n",
    "\n",
    "print(\"\\nDla sigmy:\", round(eig_value[1],1))\n",
    "print(inverse_power(A, round(eig_value[1],1)))\n",
    "\n",
    "print(\"\\nDla sigmy:\", round(eig_value[2],1))\n",
    "print(inverse_power(A, round(eig_value[2],1)))"
   ]
  },
  {
   "cell_type": "markdown",
   "metadata": {},
   "source": [
    "Wartości zgadzją się z kolumnami np.linald.eig"
   ]
  }
 ],
 "metadata": {
  "kernelspec": {
   "display_name": "Python 3",
   "language": "python",
   "name": "python3"
  },
  "language_info": {
   "codemirror_mode": {
    "name": "ipython",
    "version": 3
   },
   "file_extension": ".py",
   "mimetype": "text/x-python",
   "name": "python",
   "nbconvert_exporter": "python",
   "pygments_lexer": "ipython3",
   "version": "3.7.3"
  }
 },
 "nbformat": 4,
 "nbformat_minor": 2
}
